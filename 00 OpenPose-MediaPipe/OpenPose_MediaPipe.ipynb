{
 "cells": [
  {
   "cell_type": "markdown",
   "metadata": {},
   "source": [
    "# 0. Install"
   ]
  },
  {
   "cell_type": "code",
   "execution_count": 1,
   "metadata": {},
   "outputs": [
    {
     "output_type": "stream",
     "name": "stdout",
     "text": [
      "Collecting matplotlib\n  Using cached matplotlib-3.4.2-cp39-cp39-win_amd64.whl (7.1 MB)\nCollecting mediapipe\n  Using cached mediapipe-0.8.6-cp39-cp39-win_amd64.whl (48.1 MB)\nRequirement already satisfied: opencv-python in c:\\users\\20512\\appdata\\roaming\\python\\python39\\site-packages (4.5.2.54)\nRequirement already satisfied: kiwisolver>=1.0.1 in c:\\users\\20512\\appdata\\roaming\\python\\python39\\site-packages (from matplotlib) (1.3.1)\nRequirement already satisfied: numpy>=1.16 in c:\\users\\20512\\appdata\\roaming\\python\\python39\\site-packages (from matplotlib) (1.21.0)\nRequirement already satisfied: pyparsing>=2.2.1 in c:\\users\\20512\\appdata\\roaming\\python\\python39\\site-packages (from matplotlib) (2.4.7)\nRequirement already satisfied: python-dateutil>=2.7 in c:\\users\\20512\\appdata\\roaming\\python\\python39\\site-packages (from matplotlib) (2.8.1)\nRequirement already satisfied: pillow>=6.2.0 in c:\\users\\20512\\appdata\\roaming\\python\\python39\\site-packages (from matplotlib) (8.3.1)\nRequirement already satisfied: cycler>=0.10 in c:\\users\\20512\\appdata\\roaming\\python\\python39\\site-packages (from matplotlib) (0.10.0)\nRequirement already satisfied: six in c:\\users\\20512\\appdata\\roaming\\python\\python39\\site-packages (from cycler>=0.10->matplotlib) (1.16.0)\nCollecting attrs>=19.1.0\n  Using cached attrs-21.2.0-py2.py3-none-any.whl (53 kB)\nRequirement already satisfied: protobuf>=3.11.4 in c:\\users\\20512\\appdata\\roaming\\python\\python39\\site-packages (from mediapipe) (3.17.3)\nRequirement already satisfied: wheel in c:\\users\\20512\\appdata\\roaming\\python\\python39\\site-packages (from mediapipe) (0.36.2)\nCollecting opencv-contrib-python\n  Using cached opencv_contrib_python-4.5.2.54-cp39-cp39-win_amd64.whl (41.5 MB)\nCollecting absl-py\n  Using cached absl_py-0.13.0-py3-none-any.whl (132 kB)\nInstalling collected packages: opencv-contrib-python, matplotlib, attrs, absl-py, mediapipe\nSuccessfully installed absl-py-0.13.0 attrs-21.2.0 matplotlib-3.4.2 mediapipe-0.8.6 opencv-contrib-python-4.5.2.54\n"
     ]
    }
   ],
   "source": [
    "!pip install matplotlib mediapipe opencv-python  --user  --upgrade"
   ]
  },
  {
   "source": [
    "# 0. Import Dependencies "
   ],
   "cell_type": "markdown",
   "metadata": {}
  },
  {
   "cell_type": "code",
   "execution_count": 1,
   "metadata": {},
   "outputs": [],
   "source": [
    "import mediapipe as mp\n",
    "import cv2"
   ]
  },
  {
   "cell_type": "markdown",
   "metadata": {},
   "source": [
    "# 1. Apply Styling"
   ]
  },
  {
   "cell_type": "code",
   "execution_count": 2,
   "metadata": {},
   "outputs": [
    {
     "output_type": "execute_result",
     "data": {
      "text/plain": [
       "DrawingSpec(color=(0, 0, 255), thickness=2, circle_radius=2)"
      ]
     },
     "metadata": {},
     "execution_count": 2
    }
   ],
   "source": [
    "mp_drawing = mp.solutions.drawing_utils\n",
    "mp_holistic = mp.solutions.holistic\n",
    "mp_drawing.DrawingSpec(color=(0,0,255), thickness=2, circle_radius=2)"
   ]
  },
  {
   "source": [
    "# 2. Run Function to create outputs "
   ],
   "cell_type": "markdown",
   "metadata": {}
  },
  {
   "cell_type": "code",
   "execution_count": 27,
   "metadata": {
    "tags": []
   },
   "outputs": [
    {
     "output_type": "error",
     "ename": "KeyboardInterrupt",
     "evalue": "",
     "traceback": [
      "\u001b[1;31m---------------------------------------------------------------------------\u001b[0m",
      "\u001b[1;31mKeyboardInterrupt\u001b[0m                         Traceback (most recent call last)",
      "\u001b[1;32m~\\AppData\\Local\\Temp/ipykernel_13084/2449598046.py\u001b[0m in \u001b[0;36m<module>\u001b[1;34m\u001b[0m\n\u001b[0;32m     44\u001b[0m \u001b[1;33m\u001b[0m\u001b[0m\n\u001b[0;32m     45\u001b[0m         \u001b[1;31m# Make Detections\u001b[0m\u001b[1;33m\u001b[0m\u001b[1;33m\u001b[0m\u001b[1;33m\u001b[0m\u001b[0m\n\u001b[1;32m---> 46\u001b[1;33m         \u001b[0mresults\u001b[0m \u001b[1;33m=\u001b[0m \u001b[0mholistic\u001b[0m\u001b[1;33m.\u001b[0m\u001b[0mprocess\u001b[0m\u001b[1;33m(\u001b[0m\u001b[0mimage\u001b[0m\u001b[1;33m)\u001b[0m\u001b[1;33m\u001b[0m\u001b[1;33m\u001b[0m\u001b[0m\n\u001b[0m\u001b[0;32m     47\u001b[0m \u001b[1;33m\u001b[0m\u001b[0m\n\u001b[0;32m     48\u001b[0m         \u001b[1;31m# Recolor image back to BGR for rendering\u001b[0m\u001b[1;33m\u001b[0m\u001b[1;33m\u001b[0m\u001b[1;33m\u001b[0m\u001b[0m\n",
      "\u001b[1;32m~\\AppData\\Roaming\\Python\\Python38\\site-packages\\mediapipe\\python\\solutions\\holistic.py\u001b[0m in \u001b[0;36mprocess\u001b[1;34m(self, image)\u001b[0m\n\u001b[0;32m    143\u001b[0m     \"\"\"\n\u001b[0;32m    144\u001b[0m \u001b[1;33m\u001b[0m\u001b[0m\n\u001b[1;32m--> 145\u001b[1;33m     \u001b[0mresults\u001b[0m \u001b[1;33m=\u001b[0m \u001b[0msuper\u001b[0m\u001b[1;33m(\u001b[0m\u001b[1;33m)\u001b[0m\u001b[1;33m.\u001b[0m\u001b[0mprocess\u001b[0m\u001b[1;33m(\u001b[0m\u001b[0minput_data\u001b[0m\u001b[1;33m=\u001b[0m\u001b[1;33m{\u001b[0m\u001b[1;34m'image'\u001b[0m\u001b[1;33m:\u001b[0m \u001b[0mimage\u001b[0m\u001b[1;33m}\u001b[0m\u001b[1;33m)\u001b[0m\u001b[1;33m\u001b[0m\u001b[1;33m\u001b[0m\u001b[0m\n\u001b[0m\u001b[0;32m    146\u001b[0m     \u001b[1;32mif\u001b[0m \u001b[0mresults\u001b[0m\u001b[1;33m.\u001b[0m\u001b[0mpose_landmarks\u001b[0m\u001b[1;33m:\u001b[0m\u001b[1;33m\u001b[0m\u001b[1;33m\u001b[0m\u001b[0m\n\u001b[0;32m    147\u001b[0m       \u001b[1;32mfor\u001b[0m \u001b[0mlandmark\u001b[0m \u001b[1;32min\u001b[0m \u001b[0mresults\u001b[0m\u001b[1;33m.\u001b[0m\u001b[0mpose_landmarks\u001b[0m\u001b[1;33m.\u001b[0m\u001b[0mlandmark\u001b[0m\u001b[1;33m:\u001b[0m\u001b[1;33m\u001b[0m\u001b[1;33m\u001b[0m\u001b[0m\n",
      "\u001b[1;32m~\\AppData\\Roaming\\Python\\Python38\\site-packages\\mediapipe\\python\\solution_base.py\u001b[0m in \u001b[0;36mprocess\u001b[1;34m(self, input_data)\u001b[0m\n\u001b[0;32m    316\u001b[0m             f'type is not supported yet.')\n\u001b[0;32m    317\u001b[0m \u001b[1;33m\u001b[0m\u001b[0m\n\u001b[1;32m--> 318\u001b[1;33m     \u001b[0mself\u001b[0m\u001b[1;33m.\u001b[0m\u001b[0m_graph\u001b[0m\u001b[1;33m.\u001b[0m\u001b[0mwait_until_idle\u001b[0m\u001b[1;33m(\u001b[0m\u001b[1;33m)\u001b[0m\u001b[1;33m\u001b[0m\u001b[1;33m\u001b[0m\u001b[0m\n\u001b[0m\u001b[0;32m    319\u001b[0m     \u001b[1;31m# Create a NamedTuple object where the field names are mapping to the graph\u001b[0m\u001b[1;33m\u001b[0m\u001b[1;33m\u001b[0m\u001b[1;33m\u001b[0m\u001b[0m\n\u001b[0;32m    320\u001b[0m     \u001b[1;31m# output stream names.\u001b[0m\u001b[1;33m\u001b[0m\u001b[1;33m\u001b[0m\u001b[1;33m\u001b[0m\u001b[0m\n",
      "\u001b[1;31mKeyboardInterrupt\u001b[0m: "
     ]
    }
   ],
   "source": [
    "################################# Set up process to use (webcam or file)\n",
    "\n",
    "## WEB CAM\n",
    "#initialize video feed \n",
    "#cap = cv2.VideoCapture(0)\n",
    "\n",
    "#FROM FILE\n",
    "video_name = \"St Kilda_2.mp4\" #SET THE VIDEO NAME HERE FROM THE INPUT FOLDER\n",
    "cap = cv2.VideoCapture(\"../01 Script Inputs/\" + video_name)\n",
    "\n",
    "\n",
    "#################################\n",
    "\n",
    "#set up date time \n",
    "from datetime import datetime\n",
    "# datetime object containing current date and time\n",
    "now = datetime.now()\n",
    "fmt='%Y-%m-%d-%H-%M-%S'\n",
    "myStr = datetime.now().strftime(fmt)\n",
    "\n",
    "#filepath = \"C:/Users/david/Downloads/Full-Body-Estimation-using-Media-Pipe-Holistic-main/Output/Output_\" + myStr \n",
    "filepath = \"../02 Script Outputs/Output_\" + myStr \n",
    "filepath_RealTime = \"../02 Script Outputs/Output_\"  \n",
    "#reset the output file \n",
    "file=open(filepath + \".txt\" , \"w+\")\n",
    "\n",
    "##OUTPUT\n",
    "# Default resolutions of the frame are obtained.The default resolutions are system dependent.\n",
    "# We convert the resolutions from float to integer.\n",
    "frame_width = int(cap.get(3))\n",
    "frame_height = int(cap.get(4))\n",
    "\n",
    "### set up output video \n",
    "out = cv2.VideoWriter(filepath + '.avi',cv2.VideoWriter_fourcc('M','J','P','G'), 25, (frame_width,frame_height))\n",
    "\n",
    "# Initiate holistic model\n",
    "with mp_holistic.Holistic(min_detection_confidence=0.5, min_tracking_confidence=0.5) as holistic:\n",
    "    \n",
    "    while cap.isOpened():\n",
    "        ret, frame = cap.read()\n",
    "        \n",
    "        # Recolor Feed\n",
    "        image = cv2.cvtColor(frame, cv2.COLOR_BGR2RGB)\n",
    "        \n",
    "        # Make Detections\n",
    "        results = holistic.process(image)\n",
    "\n",
    "        # Recolor image back to BGR for rendering\n",
    "        image = cv2.cvtColor(image, cv2.COLOR_RGB2BGR)\n",
    "        \n",
    "\n",
    "        ## Pose Detections\n",
    "        mp_drawing.draw_landmarks(image, results.pose_landmarks, mp_holistic.POSE_CONNECTIONS, \n",
    "                                 mp_drawing.DrawingSpec(color=(245,117,66), thickness=2, circle_radius=4),\n",
    "                                 mp_drawing.DrawingSpec(color=(245,66,230), thickness=2, circle_radius=2)\n",
    "                                 )\n",
    "\n",
    "        #Write results to a file\n",
    "        print(results.pose_landmarks , file=open(filepath + \".txt\", \"a\"))\n",
    "        \n",
    "\n",
    "        #write out reatime file\n",
    "        with open(filepath_RealTime + \"_RealTime.txt\", 'w') as f:\n",
    "            print(results.pose_landmarks, file=f)\n",
    "\n",
    "        #write output to file \n",
    "        out.write(image)\n",
    "\n",
    "        #Show the output live \n",
    "        cv2.imshow('Raw Webcam Feed', image)\n",
    "\n",
    "        #Wait for kill key or use the stop in VS code\n",
    "        if cv2.waitKey(10) & 0xFF == ord('q'):\n",
    "            break\n",
    "#release all\n",
    "file.close()\n",
    "cap.release()\n",
    "out.release()\n",
    "cv2.destroyAllWindows()"
   ]
  },
  {
   "source": [
    "# 3. REMEMBER: Kill the video feed and close file access"
   ],
   "cell_type": "markdown",
   "metadata": {}
  },
  {
   "cell_type": "code",
   "execution_count": 28,
   "metadata": {},
   "outputs": [],
   "source": [
    "#Release all\n",
    "file.close()\n",
    "cap.release()\n",
    "out.release()\n",
    "cv2.destroyAllWindows()\n"
   ]
  },
  {
   "cell_type": "code",
   "execution_count": null,
   "metadata": {},
   "outputs": [],
   "source": []
  }
 ],
 "metadata": {
  "kernelspec": {
   "name": "python3",
   "display_name": "Python 3.8.5 64-bit"
  },
  "language_info": {
   "codemirror_mode": {
    "name": "ipython",
    "version": 3
   },
   "file_extension": ".py",
   "mimetype": "text/x-python",
   "name": "python",
   "nbconvert_exporter": "python",
   "pygments_lexer": "ipython3",
   "version": "3.8.5"
  },
  "interpreter": {
   "hash": "2db524e06e9f5f4ffedc911c917cb75e12dbc923643829bf417064a77eb14d37"
  }
 },
 "nbformat": 4,
 "nbformat_minor": 2
}